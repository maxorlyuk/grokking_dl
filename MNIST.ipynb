{
 "cells": [
  {
   "cell_type": "code",
   "execution_count": 1,
   "metadata": {},
   "outputs": [
    {
     "name": "stderr",
     "output_type": "stream",
     "text": [
      "Using TensorFlow backend.\n"
     ]
    }
   ],
   "source": [
    "import numpy as np\n",
    "import seaborn as sns; sns.set()\n",
    "\n",
    "from keras.datasets import mnist"
   ]
  },
  {
   "cell_type": "code",
   "execution_count": 2,
   "metadata": {},
   "outputs": [],
   "source": [
    "(x_train, y_train), (x_test, y_test) = mnist.load_data()"
   ]
  },
  {
   "cell_type": "code",
   "execution_count": 3,
   "metadata": {},
   "outputs": [],
   "source": [
    "x_train = x_train.astype('float64')\n",
    "y_train = y_train.astype('float64')\n",
    "\n",
    "x_test = x_test.astype('float64')\n",
    "y_test = y_test.astype('float64')\n"
   ]
  },
  {
   "cell_type": "code",
   "execution_count": 4,
   "metadata": {},
   "outputs": [],
   "source": [
    "def predict(image):\n",
    "    layer_0 = image.reshape(1, PIXELS_PER_IMAGE)/255\n",
    "    layer_1 = relu(np.dot(layer_0, weights_0_1))\n",
    "    layer_2 = np.dot(layer_1, weights_1_2)\n",
    "    \n",
    "    print(np.argmax(layer_2))\n",
    "\n",
    "    \n",
    "def confusion_matrix(y_pred, y_true):\n",
    "    unique_values = list(set(y_true) | set(y_pred))\n",
    "    mtrx = np.zeros((len(unique_values), len(unique_values)))\n",
    "    for y_p, y_t in zip(y_pred, y_true):\n",
    "        mtrx[unique_values.index(y_p)][unique_values.index(y_t)] += 1\n",
    "    return mtrx, unique_values\n"
   ]
  },
  {
   "cell_type": "code",
   "execution_count": 5,
   "metadata": {},
   "outputs": [
    {
     "data": {
      "text/plain": [
       "(784, array([0., 1., 2., 3., 4., 5., 6., 7., 8., 9.]))"
      ]
     },
     "execution_count": 5,
     "metadata": {},
     "output_type": "execute_result"
    }
   ],
   "source": [
    "PIXELS_PER_IMAGE = 28*28\n",
    "UNIQUE_LABELS = np.unique(y_test)\n",
    "\n",
    "PIXELS_PER_IMAGE, UNIQUE_LABELS"
   ]
  },
  {
   "cell_type": "code",
   "execution_count": 6,
   "metadata": {},
   "outputs": [],
   "source": [
    "def one_hot_encoder(array):\n",
    "    \"\"\"\n",
    "    Encodes vector into the one hot matrix.\n",
    "    \"\"\"\n",
    "    unique_values = np.unique(array)\n",
    "    one_hot_labels = np.zeros((len(array), len(unique_values)))\n",
    "    for i, el in enumerate(array):\n",
    "        one_hot_labels[i][np.where(unique_values==el)[0]] = 1\n",
    "    return one_hot_labels\n",
    "\n",
    "\n",
    "def img_label_generator(images, labels, batch_size=1):\n",
    "    \"\"\"\n",
    "    Yields pair of (data, label) with given batch size\n",
    "    \"\"\"\n",
    "    count_of_images = len(images)\n",
    "    assert count_of_images == len(labels)\n",
    "    for  i in range(int(count_of_images//batch_size)):\n",
    "        yield images[i*batch_size:(i+1)*batch_size], labels[i*batch_size:(i+1)*batch_size]\n",
    "\n",
    "        \n",
    "def relu(x):\n",
    "    return (x >= 0) * x\n",
    "\n",
    "\n",
    "def relu2deriv(output):\n",
    "    return output >= 0\n",
    "\n",
    "\n",
    "def tanh(x):\n",
    "    return np.tanh(x)\n",
    "\n",
    "\n",
    "def tanh2deriv(output):\n",
    "    return 1 - (output ** 2)\n",
    "\n",
    "\n",
    "def softmax(x):\n",
    "    temp = np.exp(x)\n",
    "    return temp / np.sum(temp, axis=1, keepdims=True)\n"
   ]
  },
  {
   "cell_type": "markdown",
   "metadata": {},
   "source": [
    "## Data prepearing"
   ]
  },
  {
   "cell_type": "code",
   "execution_count": 7,
   "metadata": {},
   "outputs": [],
   "source": [
    "images = x_train[:1000].reshape(1000, PIXELS_PER_IMAGE)/255\n",
    "labels = one_hot_encoder(y_train[:1000])\n",
    "\n",
    "test_images = x_test.reshape(len(x_test), PIXELS_PER_IMAGE)/255\n",
    "test_labels = one_hot_encoder(y_test)"
   ]
  },
  {
   "cell_type": "markdown",
   "metadata": {},
   "source": [
    "## Model hyperparameters"
   ]
  },
  {
   "cell_type": "code",
   "execution_count": 11,
   "metadata": {},
   "outputs": [],
   "source": [
    "alpha = 0.02\n",
    "iterations = 200\n",
    "hidden_size = 40\n",
    "batch_size = 50"
   ]
  },
  {
   "cell_type": "markdown",
   "metadata": {},
   "source": [
    "### Training process"
   ]
  },
  {
   "cell_type": "code",
   "execution_count": 12,
   "metadata": {},
   "outputs": [
    {
     "name": "stdout",
     "output_type": "stream",
     "text": [
      "Iteration: 0 \n",
      "Error: 0.8978 Acc: 0.1740\n",
      "Test-error: 0.895 Test-acc: 0.314\n",
      "\n",
      "Iteration: 10 \n",
      "Error: 0.7890 Acc: 0.6400\n",
      "Test-error: 0.786 Test-acc: 0.625\n",
      "\n",
      "Iteration: 20 \n",
      "Error: 0.6096 Acc: 0.6920\n",
      "Test-error: 0.614 Test-acc: 0.678\n",
      "\n",
      "Iteration: 30 \n",
      "Error: 0.4860 Acc: 0.7590\n",
      "Test-error: 0.493 Test-acc: 0.737\n",
      "\n",
      "Iteration: 40 \n",
      "Error: 0.4031 Acc: 0.8050\n",
      "Test-error: 0.413 Test-acc: 0.781\n",
      "\n",
      "Iteration: 50 \n",
      "Error: 0.3345 Acc: 0.8420\n",
      "Test-error: 0.357 Test-acc: 0.809\n",
      "\n",
      "Iteration: 60 \n",
      "Error: 0.2947 Acc: 0.8600\n",
      "Test-error: 0.317 Test-acc: 0.827\n",
      "\n",
      "Iteration: 70 \n",
      "Error: 0.2612 Acc: 0.8720\n",
      "Test-error: 0.288 Test-acc: 0.837\n",
      "\n",
      "Iteration: 80 \n",
      "Error: 0.2287 Acc: 0.8870\n",
      "Test-error: 0.267 Test-acc: 0.843\n",
      "\n",
      "Iteration: 90 \n",
      "Error: 0.2086 Acc: 0.9050\n",
      "Test-error: 0.252 Test-acc: 0.847\n",
      "\n",
      "Iteration: 100 \n",
      "Error: 0.1938 Acc: 0.9060\n",
      "Test-error: 0.238 Test-acc: 0.854\n",
      "\n",
      "Iteration: 110 \n",
      "Error: 0.1835 Acc: 0.9120\n",
      "Test-error: 0.229 Test-acc: 0.855\n",
      "\n",
      "Iteration: 120 \n",
      "Error: 0.1675 Acc: 0.9180\n",
      "Test-error: 0.224 Test-acc: 0.855\n",
      "\n",
      "Iteration: 130 \n",
      "Error: 0.1559 Acc: 0.9180\n",
      "Test-error: 0.217 Test-acc: 0.858\n",
      "\n",
      "Iteration: 140 \n",
      "Error: 0.1429 Acc: 0.9230\n",
      "Test-error: 0.213 Test-acc: 0.859\n",
      "\n",
      "Iteration: 150 \n",
      "Error: 0.1414 Acc: 0.9280\n",
      "Test-error: 0.208 Test-acc: 0.861\n",
      "\n",
      "Iteration: 160 \n",
      "Error: 0.1471 Acc: 0.9150\n",
      "Test-error: 0.207 Test-acc: 0.862\n",
      "\n",
      "Iteration: 170 \n",
      "Error: 0.1319 Acc: 0.9210\n",
      "Test-error: 0.203 Test-acc: 0.864\n",
      "\n",
      "Iteration: 180 \n",
      "Error: 0.1418 Acc: 0.9190\n",
      "Test-error: 0.208 Test-acc: 0.857\n",
      "\n",
      "Iteration: 190 \n",
      "Error: 0.1498 Acc: 0.9040\n",
      "Test-error: 0.209 Test-acc: 0.858\n",
      "\n",
      "CPU times: user 2min 19s, sys: 10.7 s, total: 2min 30s\n",
      "Wall time: 37.8 s\n"
     ]
    }
   ],
   "source": [
    "%%time\n",
    "\n",
    "np.random.seed(1)\n",
    "\n",
    "weights_0_1 = 0.02 * np.random.random((PIXELS_PER_IMAGE, hidden_size)) - 0.01\n",
    "weights_1_2 = 0.2 * np.random.random((hidden_size, len(UNIQUE_LABELS)))\n",
    "\n",
    "for iteration in range(iterations):\n",
    "    err, correct_cnt = .0, .0\n",
    "    \n",
    "    for img_chunk, labels_chunk in img_label_generator(images, labels, batch_size=batch_size):\n",
    "        \n",
    "        layer_0 = img_chunk\n",
    "        \n",
    "        layer_1 = tanh(np.dot(layer_0, weights_0_1))\n",
    "        dropout_mask = np.random.randint(2, size=layer_1.shape).astype('float64')\n",
    "        layer_1 *= dropout_mask * 2\n",
    "        \n",
    "        layer_2 = softmax(np.dot(layer_1, weights_1_2))\n",
    "\n",
    "        err += np.sum((labels_chunk - layer_2) ** 2)  # squared error\n",
    "        for layer_val, label in img_label_generator(layer_2, labels_chunk):\n",
    "            correct_cnt += int(np.argmax(layer_val)) == np.argmax(label)\n",
    "\n",
    "            layer_2_delta = (labels_chunk - layer_2)/(batch_size * layer_2.shape[0])\n",
    "            \n",
    "            #Back propagation\n",
    "            layer_1_delta = layer_2_delta.dot(weights_1_2.T) * tanh2deriv(layer_1)\n",
    "            layer_1_delta *= dropout_mask\n",
    "            \n",
    "            #Weights updating\n",
    "            weights_1_2 += alpha * layer_1.T.dot(layer_2_delta)\n",
    "            weights_0_1 += alpha * layer_0.T.dot(layer_1_delta)\n",
    "            \n",
    "    if iteration % 10 == 0:\n",
    "        test_err, test_correct_cnt = 0, 0\n",
    "        err = err/len(images)\n",
    "        correct_cnt = correct_cnt/len(images)\n",
    "        \n",
    "        print(f\"Iteration: {iteration} \\nError: {err:.4f} Acc: {correct_cnt:.4f}\")\n",
    "        for img, label in img_label_generator(test_images, test_labels):\n",
    "            layer_0 = img\n",
    "            layer_1 = tanh(np.dot(layer_0, weights_0_1))\n",
    "            layer_2 = softmax(np.dot(layer_1, weights_1_2))\n",
    "            \n",
    "            test_err += np.sum((label - layer_2) ** 2) / len(test_images)\n",
    "            test_correct_cnt += np.argmax(label) == np.argmax(layer_2)\n",
    "            test_acc = test_correct_cnt/len(test_images)\n",
    "\n",
    "        print(f\"Test-error: {test_err:.3f} Test-acc: {test_acc:.3f}\\n\")\n"
   ]
  },
  {
   "cell_type": "code",
   "execution_count": 10,
   "metadata": {},
   "outputs": [
    {
     "data": {
      "text/plain": [
       "3"
      ]
     },
     "execution_count": 10,
     "metadata": {},
     "output_type": "execute_result"
    },
    {
     "data": {
      "image/png": "[encoded data removed]",
      "text/plain": [
       "<Figure size 432x288 with 2 Axes>"
      ]
     },
     "metadata": {},
     "output_type": "display_data"
    }
   ],
   "source": [
    "def predict(img):\n",
    "    sns.heatmap(img)\n",
    "    img = img.reshape(1, PIXELS_PER_IMAGE)\n",
    "    layer_0 = img\n",
    "    layer_1 = tanh(np.dot(layer_0, weights_0_1))\n",
    "    layer_2 = softmax(np.dot(layer_1, weights_1_2))\n",
    "    return np.argmax(layer_2)\n",
    "\n",
    "predict(x_train[10])\n",
    "    "
   ]
  }
 ],
 "metadata": {
  "kernelspec": {
   "display_name": "Python 3",
   "language": "python",
   "name": "python3"
  },
  "language_info": {
   "codemirror_mode": {
    "name": "ipython",
    "version": 3
   },
   "file_extension": ".py",
   "mimetype": "text/x-python",
   "name": "python",
   "nbconvert_exporter": "python",
   "pygments_lexer": "ipython3",
   "version": "3.7.4"
  }
 },
 "nbformat": 4,
 "nbformat_minor": 4
}
