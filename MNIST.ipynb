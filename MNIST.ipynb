{
 "cells": [
  {
   "cell_type": "code",
   "execution_count": 155,
   "metadata": {},
   "outputs": [],
   "source": [
    "import numpy as np\n",
    "import seaborn as sns; sns.set()\n",
    "\n",
    "from keras.datasets import mnist"
   ]
  },
  {
   "cell_type": "code",
   "execution_count": 22,
   "metadata": {},
   "outputs": [],
   "source": [
    "(x_train, y_train), (x_test, y_test) = mnist.load_data()"
   ]
  },
  {
   "cell_type": "code",
   "execution_count": 4,
   "metadata": {},
   "outputs": [
    {
     "data": {
      "text/plain": [
       "(((60000, 28, 28), (60000,)), ((10000, 28, 28), (10000,)))"
      ]
     },
     "execution_count": 4,
     "metadata": {},
     "output_type": "execute_result"
    }
   ],
   "source": [
    "(x_train.shape, y_train.shape), (x_test.shape, y_test.shape)"
   ]
  },
  {
   "cell_type": "code",
   "execution_count": 174,
   "metadata": {},
   "outputs": [
    {
     "data": {
      "text/plain": [
       "<matplotlib.axes._subplots.AxesSubplot at 0x13ed5cf10>"
      ]
     },
     "execution_count": 174,
     "metadata": {},
     "output_type": "execute_result"
    },
    {
     "data": {
      "image/png": "[encoded data removed]",
      "text/plain": [
       "<Figure size 432x288 with 3 Axes>"
      ]
     },
     "metadata": {},
     "output_type": "display_data"
    }
   ],
   "source": [
    "\n",
    "ax = sns.heatmap(weights_1_2)\n",
    "\n",
    "def predict(image):\n",
    "    layer_0 = image.reshape(1, PIXELS_PER_IMAGE)/255\n",
    "    layer_1 = relu(np.dot(layer_0, weights_0_1))\n",
    "    layer_2 = np.dot(layer_1, weights_1_2)\n",
    "    \n",
    "    print(np.argmax(layer_2))\n",
    "\n",
    "    \n",
    "def confusion_matrix(y_pred, y_true):\n",
    "    unique_values = list(set(y_true) | set(y_pred))\n",
    "    mtrx = np.zeros((len(unique_values), len(unique_values)))\n",
    "    for y_p, y_t in zip(y_pred, y_true):\n",
    "        mtrx[unique_values.index(y_p)][unique_values.index(y_t)] += 1\n",
    "    return mtrx, unique_values\n",
    "\n",
    "mtrx,_ = confusion_matrix([1,2,2,16,3,1,2], [1,2,2,6,3,14,2])\n",
    "sns.heatmap(mtrx)"
   ]
  },
  {
   "cell_type": "code",
   "execution_count": 23,
   "metadata": {},
   "outputs": [
    {
     "data": {
      "text/plain": [
       "(784, array([0, 1, 2, 3, 4, 5, 6, 7, 8, 9], dtype=uint8))"
      ]
     },
     "execution_count": 23,
     "metadata": {},
     "output_type": "execute_result"
    }
   ],
   "source": [
    "PIXELS_PER_IMAGE = 28*28\n",
    "UNIQUE_LABELS = np.unique(y_test)\n",
    "\n",
    "PIXELS_PER_IMAGE, UNIQUE_LABELS"
   ]
  },
  {
   "cell_type": "code",
   "execution_count": 157,
   "metadata": {},
   "outputs": [],
   "source": [
    "def one_hot_encoder(array):\n",
    "    \"\"\"\n",
    "    Encodes vector into the one hot matrix.\n",
    "    \"\"\"\n",
    "    unique_values = np.unique(array)\n",
    "    one_hot_labels = np.zeros((len(array), len(unique_values)))\n",
    "    for i, el in enumerate(array):\n",
    "        one_hot_labels[i][np.where(unique_values==el)[0]] = 1\n",
    "    return one_hot_labels\n",
    "\n",
    "\n",
    "def img_label_generator(images, labels, batch_size=1):\n",
    "    \"\"\"\n",
    "    Yields pair of (data, label) with given batch size\n",
    "    \"\"\"\n",
    "    count_of_images = len(images)\n",
    "    assert count_of_images == len(labels)\n",
    "    for  i in range(int(count_of_images//batch_size)):\n",
    "        yield images[i*batch_size:(i+1)*batch_size], labels[i*batch_size:(i+1)*batch_size]\n",
    "\n",
    "relu = lambda x: (x >= 0) * x\n",
    "relu2deriv = lambda output: output >= 0\n"
   ]
  },
  {
   "cell_type": "markdown",
   "metadata": {},
   "source": [
    "## Data prepearing"
   ]
  },
  {
   "cell_type": "code",
   "execution_count": 55,
   "metadata": {},
   "outputs": [],
   "source": [
    "images = x_train[:1000].reshape(1000, PIXELS_PER_IMAGE)/255\n",
    "labels = one_hot_encoder(y_train[:1000])\n",
    "\n",
    "test_images = x_test.reshape(len(x_test), PIXELS_PER_IMAGE)/255\n",
    "test_labels = one_hot_encoder(y_test)"
   ]
  },
  {
   "cell_type": "markdown",
   "metadata": {},
   "source": [
    "## Model hyperparameters"
   ]
  },
  {
   "cell_type": "code",
   "execution_count": 51,
   "metadata": {},
   "outputs": [],
   "source": [
    "alpha = 0.01\n",
    "iterations = 300\n",
    "hidden_size = 40\n",
    "batch_size = 100"
   ]
  },
  {
   "cell_type": "markdown",
   "metadata": {},
   "source": [
    "### Training process"
   ]
  },
  {
   "cell_type": "code",
   "execution_count": null,
   "metadata": {},
   "outputs": [],
   "source": [
    "# %%time\n",
    "\n",
    "np.random.seed(1)\n",
    "\n",
    "weights_0_1 = 0.2 * np.random.random((PIXELS_PER_IMAGE, hidden_size)) - 0.1\n",
    "weights_1_2 = 0.2 * np.random.random((hidden_size, len(UNIQUE_LABELS)))\n",
    "\n",
    "history = []   # Created for storing error and accuracy metrics \n",
    "\n",
    "for iteration in range(iterations):\n",
    "    err, correct_cnt = .0, .0\n",
    "    \n",
    "    for img_chunk, labels_chunk in img_label_generator(images, labels, batch_size=batch_size):\n",
    "        \n",
    "        layer_0 = img_chunk\n",
    "        \n",
    "        layer_1 = relu(np.dot(layer_0, weights_0_1))\n",
    "        dropout_mask = np.random.randint(2, size=layer_1.shape)\n",
    "        layer_1 *= dropout_mask * 2\n",
    "        \n",
    "        layer_2 = np.dot(layer_1, weights_1_2)\n",
    "              \n",
    "        err += np.sum((labels_chunk - layer_2) ** 2)  # squared error\n",
    "        for layer_val, label in img_label_generator(layer_2, labels_chunk):\n",
    "            correct_cnt += int(np.argmax(layer_val)) == np.argmax(label)\n",
    "\n",
    "            layer_2_delta = (labels_chunk - layer_2)/batch_size\n",
    "            \n",
    "            #Back propagation\n",
    "            layer_1_delta = layer_2_delta.dot(weights_1_2.T) * relu2deriv(layer_1)\n",
    "            layer_1_delta *= dropout_mask\n",
    "            \n",
    "            #Weights updating\n",
    "            weights_1_2 += alpha * layer_1.T.dot(layer_2_delta)\n",
    "            weights_0_1 += alpha * layer_0.T.dot(layer_1_delta)\n",
    "            \n",
    "    if iteration % 10 == 0:\n",
    "        test_err, test_correct_cnt = 0, 0\n",
    "        err = err/len(images)\n",
    "        correct_cnt = correct_cnt/len(images)\n",
    "        \n",
    "        print(f\"Iteration: {iteration} \\nError: {err:.4f} Acc: {correct_cnt:.4f}\")\n",
    "        for img, label in img_label_generator(test_images, test_labels):\n",
    "            layer_0 = img\n",
    "            layer_1 = relu(np.dot(layer_0, weights_0_1))\n",
    "            layer_2 = np.dot(layer_1, weights_1_2)\n",
    "            \n",
    "            test_err += np.sum((label - layer_2) ** 2)\n",
    "            test_correct_cnt += np.argmax(label) == np.argmax(layer_2)\n",
    "            test_acc = test_correct_cnt/len(test_images)\n",
    "        print(f\"Test-error: {test_err/len(test_images):.3f} \\Test-acc: {test_acc:.3f}\")\n",
    "        history.append(((err, acc), (test_err, test_acc)))\n"
   ]
  },
  {
   "cell_type": "code",
   "execution_count": 133,
   "metadata": {},
   "outputs": [],
   "source": [
    "hist_err = [[train[0], test[0]/1000] for train, test in history]"
   ]
  },
  {
   "cell_type": "code",
   "execution_count": 138,
   "metadata": {},
   "outputs": [],
   "source": [
    "\n",
    "err = [err[0] for err in hist_err]"
   ]
  },
  {
   "cell_type": "code",
   "execution_count": 141,
   "metadata": {},
   "outputs": [
    {
     "name": "stderr",
     "output_type": "stream",
     "text": [
      "/Users/maksimorluk/PycharmProjects/grokking_dl/venv/lib/python3.7/site-packages/ipykernel_launcher.py:6: RuntimeWarning: Second argument 'y' is ambiguous: could be a color spec but is in data; using as data.  Either rename the entry in data or use three arguments to plot.\n",
      "  \n"
     ]
    },
    {
     "data": {
      "image/png": "[encoded data removed]",
      "text/plain": [
       "<Figure size 432x288 with 1 Axes>"
      ]
     },
     "metadata": {},
     "output_type": "display_data"
    }
   ],
   "source": [
    "# history\n",
    "import matplotlib.pyplot as plt\n",
    "import numpy as np\n",
    "import pandas as pd\n",
    "df=pd.DataFrame({'x': range(len(err)), 'y':  err})\n",
    "plt.plot( 'x', 'y', data=df, color='red', alpha=0.3)\n",
    "plt.show()\n"
   ]
  },
  {
   "cell_type": "code",
   "execution_count": 144,
   "metadata": {},
   "outputs": [
    {
     "data": {
      "text/plain": [
       "Text(0, 0.5, 'Score')"
      ]
     },
     "execution_count": 144,
     "metadata": {},
     "output_type": "execute_result"
    },
    {
     "data": {
      "image/png": "[encoded data removed]",
      "text/plain": [
       "<Figure size 432x288 with 1 Axes>"
      ]
     },
     "metadata": {},
     "output_type": "display_data"
    }
   ],
   "source": [
    "import matplotlib.pyplot as plt\n",
    "import numpy as np\n",
    "import pandas as pd\n",
    " \n",
    "# Make a data frame\n",
    "df=pd.DataFrame({'x': range(len(hist_err)),\n",
    "                 'y1': [err[0] for err in hist_err],\n",
    "                 'y2': [err[1]/10 for err in hist_err]})\n",
    "# style\n",
    "plt.style.use('seaborn-darkgrid')\n",
    " \n",
    "# create a color palette\n",
    "palette = plt.get_cmap('Set1')\n",
    " \n",
    "# multiple line plot\n",
    "num=0\n",
    "for column in df.drop('x', axis=1):\n",
    "    num+=1\n",
    "    plt.plot(df['x'], df[column], marker='', color=palette(num), linewidth=1, alpha=0.9, label=column)\n",
    " \n",
    "# Add legend\n",
    "plt.legend(loc=2, ncol=2)\n",
    " \n",
    "# Add titles\n",
    "plt.title(\"A (bad) Spaghetti plot\", loc='left', fontsize=12, fontweight=0, color='orange')\n",
    "plt.xlabel(\"Time\")\n",
    "plt.ylabel(\"Score\")\n"
   ]
  }
 ],
 "metadata": {
  "kernelspec": {
   "display_name": "Python 3",
   "language": "python",
   "name": "python3"
  },
  "language_info": {
   "codemirror_mode": {
    "name": "ipython",
    "version": 3
   },
   "file_extension": ".py",
   "mimetype": "text/x-python",
   "name": "python",
   "nbconvert_exporter": "python",
   "pygments_lexer": "ipython3",
   "version": "3.7.4"
  }
 },
 "nbformat": 4,
 "nbformat_minor": 4
}
